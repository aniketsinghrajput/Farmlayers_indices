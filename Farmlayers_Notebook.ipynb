{
 "cells": [
  {
   "cell_type": "markdown",
   "metadata": {},
   "source": [
    "<h1 style=\"color:Blue;font-size:30px;\" ><center>iAvenue Farm Layers</center></h1> "
   ]
  },
  {
   "cell_type": "code",
   "execution_count": 1,
   "metadata": {},
   "outputs": [],
   "source": [
    "# Authentication of Earth engine\n",
    "import ee\n",
    "service_account = 'iavenuelabs@ialabs-earthengineapi.iam.gserviceaccount.com'\n",
    "credentials = ee.ServiceAccountCredentials(service_account, 'ialabs-earthengineapi-df98e792a65f.json')\n",
    "ee.Initialize(credentials)"
   ]
  },
  {
   "cell_type": "code",
   "execution_count": 2,
   "metadata": {},
   "outputs": [],
   "source": [
    "# Importing Libraries\n",
    "import os\n",
    "import ee\n",
    "import geemap\n",
    "import ipywidgets as widgets\n",
    "import os\n",
    "import subprocess\n",
    "import sys\n",
    "from ipywidgets import FileUpload\n",
    "from IPython.display import Image\n",
    "import requests\n",
    "import os\n",
    "from ftplib import FTP\n",
    "import numpy as np\n",
    "from PIL import Image \n",
    "from IPython.display import display, FileLink\n",
    "from ipywidgets import HTML, Layout,VBox\n",
    "from termcolor import colored, cprint\n",
    "\n",
    "from colorama import Fore, Back, Style\n",
    "\n",
    "from prettytable import PrettyTable,ALL\n",
    "from tabulate import tabulate\n",
    "from datetime import date\n",
    "from datetime import datetime, timedelta"
   ]
  },
  {
   "cell_type": "code",
   "execution_count": 3,
   "metadata": {
    "scrolled": true
   },
   "outputs": [],
   "source": [
    "Map = geemap.Map(center=(20.5937, 78.9629), zoom=14)\n",
    "Map.add_basemap('HYBRID')\n",
    "# Map"
   ]
  },
  {
   "cell_type": "code",
   "execution_count": 4,
   "metadata": {},
   "outputs": [],
   "source": [
    "output = widgets.Output()"
   ]
  },
  {
   "cell_type": "code",
   "execution_count": 5,
   "metadata": {},
   "outputs": [],
   "source": [
    "def ndvi_clicked():\n",
    "\n",
    "    with output:\n",
    "        output.clear_output()\n",
    "        print(\"NDVI Clicked\")\n",
    "        aa=Map.user_roi\n",
    "        if aa != None :\n",
    "            \n",
    "            #x1=b\n",
    "            #y1=y\n",
    "            #print('aaaa',x1)\n",
    "            \n",
    "            a = Map.user_roi.getInfo()\n",
    "            aoi1=a['coordinates']\n",
    "            \n",
    "            print(Fore.GREEN+\"AOI Lat & Long = \",Style.RESET_ALL,aoi1)\n",
    "            #end = date.today()\n",
    "            today = datetime.now()\n",
    "\n",
    "            end=datetime.strftime(today, '%Y-%m-%d')\n",
    "            yesterday = datetime.now() - timedelta(7)\n",
    "            start=datetime.strftime(yesterday, '%Y-%m-%d')\n",
    "            point = ee.Geometry.Polygon(aoi1)\n",
    "            #l8 = ee.ImageCollection('MODIS/MCD43A4_006_NDVI')\n",
    "            l8 = ee.ImageCollection('COPERNICUS/S2_SR')\n",
    "            #l8 = ee.ImageCollection('LANDSAT/LC08/C01/T1_SR')\n",
    "            image = ee.Image(\n",
    "                l8.filterBounds(point)\n",
    "                .filterDate(start, end)\n",
    "                .sort('CLOUD_COVER')\n",
    "                .first()\n",
    "            )\n",
    "            #print(\"iiii\",image)\n",
    "            try:\n",
    "                \n",
    "            #if image != None:\n",
    "                \n",
    "                # Compute NDVI.\n",
    "                NIR = image.select('B8')\n",
    "                Red = image.select('B4')\n",
    "                #RedEdge=image.select('B5')\n",
    "                ndvi1999 = NIR.subtract(Red).divide(NIR.add(Red)).rename('NDVI')\n",
    "                #ndre1999 = NIR.subtract(RedEdge).divide(NIR.add(RedEdge)).rename('NDRE')\n",
    "                ndvi1999=ndvi1999.clip(point)\n",
    "                #ndre1999=ndre1999.clip(point)\n",
    "                #s2NDVI = ndvi1999.select('ndvi');\n",
    "                Map.addLayer(ndvi1999, {'min': -1, 'max': 1, 'palette': ['red', 'yellow', 'green']}, \"NDVI 1999\")\n",
    "                #Map.addLayer(ndre1999, {'min': -1, 'max': 1, 'palette': ['red', 'yellow', 'green']}, \"NDRE 1999\")\n",
    "                Map \n",
    "                #print(\"NDVI Calculated\")\n",
    "                #print(Fore.GREEN +\"Low NDVI Below 0.2:-\",Style.RESET_ALL,\"Critical Crop Health:-\",\"RDF should be increased by 50% after thorough investigation\")\n",
    "                #cprint('Low NDVI Below 0.2:- Critical Crop Health:- RDF should be increased by 50% after thorough investigation','red', 'on_yellow')\n",
    "                #print(Fore.GREEN+\"Moderate NDVI 0.2 to 0.4:-\",Style.RESET_ALL,\"Moderate Crop Health:-\",\"RDF should be increased by 25%\")\n",
    "                #print(Fore.GREEN+\"High NDVI above 0.4:-\",Style.RESET_ALL,\"Good Crop Health:-\",\"RDF should be reduced by 10 to 30%\")\n",
    "                area = point.area()\n",
    "                #print(\"area\",area)\n",
    "                area_ha=area.getInfo()\n",
    "                area_sq=(round(area_ha,2))\n",
    "                #print(\"area in sqm\",area_sq)\n",
    "                plant_pop=area_sq/0.015\n",
    "                #print(\"area\",area_ha)\n",
    "                print(Fore.GREEN+\"Plant population = \",Style.RESET_ALL,round(plant_pop,2))\n",
    "                area_ha=area_ha/4047\n",
    "                #print(\"ha\",area_ha)\n",
    "                #print(\"ROI Area = \", round(area.getInfo(),2),\"Square meter\")\n",
    "                print(Fore.GREEN+\"ROI Area = \",Style.RESET_ALL, round(area_ha,2),\"Acre\")\n",
    "                my_table = PrettyTable()\n",
    "                my_table.hrules=ALL\n",
    "                #color = [\"\\033[0;33;10m\", \"\\033[0;32;10m\", \"\\033[0;92;10m\", \"\\033[0;34;10m\", \"\\033[0m\"]\n",
    "                my_table.field_names = [\"NDVI Value\", \"Inference\", \"Actionable Insights\"]\n",
    "               # l=list()\n",
    "\n",
    "               # l1=[\"Low NDVI Below 0.2\", \"Critical Crop Health\", \"RDF should be increased by 50% after thorough investigation\"]\n",
    "               # l.append(color[0]+l1[0]+color[4])\n",
    "                #l.append(color[0]+l1[1]+color[4])\n",
    "                #l.append(color[0]+l1[2]+color[4])\n",
    "                #my_table.add_row(l)\n",
    "                #my_table._max_width = {\"Inference\":14,\"Actionable Insights\":14}\n",
    "                my_table.add_row([\"Low NDVI Below 0.2\", \"Critical Crop Health\", \"RDF should be increased by 50% after thorough investigation\"])\n",
    "                #my_table.add_row([\"------------------------\",\"-------------------------\",\"--------------------------------------------------------------\"])\n",
    "                my_table.add_row([\"Moderate NDVI 0.2 to 0.4\", \"Moderate Crop Health\", \"RDF should be increased by 25%\"])\n",
    "                #m1=[\"Moderate NDVI 0.2 to 0.4\", \"Moderate Crop Health\", \"RDF should be increased by 25%\"]\n",
    "               # m=list()\n",
    "                #m.append(color[1]+m1[0]+color[4])\n",
    "                #m.append(color[1]+m1[1]+color[4])\n",
    "                #m.append(color[1]+m1[2]+color[4])\n",
    "                #my_table.add_row(m)\n",
    "                my_table.add_row([\"High NDVI above 0.4\", \"Good Crop Health\", \"RDF should be reduced by 10 to 30%\"])\n",
    "                #n1=[\"High NDVI above 0.4\", \"Good Crop Health\", \"RDF should be reduced by 10 to 30%\"]\n",
    "                #n=list()\n",
    "                #n.append(color[2]+n1[0]+color[4])\n",
    "                #n.append(color[2]+n1[1]+color[4])\n",
    "                #n.append(color[2]+n1[2]+color[4])\n",
    "                #my_table.add_row(n)\n",
    "                print(my_table)\n",
    "            except:\n",
    "                print(\"Due to cloud cover data is not available\")\n",
    "        else:\n",
    "            \n",
    "            print(\"Please Select aoi\")\n",
    "\n",
    "        \n",
    "#ndvi_button.on_click(ndvi_clicked)"
   ]
  },
  {
   "cell_type": "code",
   "execution_count": 6,
   "metadata": {},
   "outputs": [],
   "source": [
    "output = widgets.Output()"
   ]
  },
  {
   "cell_type": "code",
   "execution_count": 7,
   "metadata": {},
   "outputs": [],
   "source": [
    "def ndre_clicked():\n",
    "\n",
    "    with output:\n",
    "        output.clear_output()\n",
    "        aa=Map.user_roi\n",
    "        if aa != None :\n",
    "            \n",
    "            a = Map.user_roi.getInfo()\n",
    "            aoi1=a['coordinates']\n",
    "            print(Fore.GREEN+\"AOI Lat & Long = \",Style.RESET_ALL,aoi1)\n",
    "            today = datetime.now()\n",
    "\n",
    "            end=datetime.strftime(today, '%Y-%m-%d')\n",
    "            yesterday = datetime.now() - timedelta(7)\n",
    "            start=datetime.strftime(yesterday, '%Y-%m-%d')\n",
    "            point = ee.Geometry.Polygon(aoi1)\n",
    "\n",
    "            l8 = ee.ImageCollection('COPERNICUS/S2_SR')\n",
    "            #l8 = ee.ImageCollection('LANDSAT/LC08/C01/T1_SR')\n",
    "            image = ee.Image(\n",
    "                l8.filterBounds(point)\n",
    "                .filterDate(start, end)\n",
    "                .sort('CLOUD_COVER')\n",
    "                .first()\n",
    "            )\n",
    "            try:\n",
    "                \n",
    "                \n",
    "                # Compute NDRE.\n",
    "                NIR = image.select('B8')\n",
    "                Red = image.select('B4')\n",
    "                RedEdge=image.select('B5')\n",
    "                \n",
    "                ndre1999 = NIR.subtract(RedEdge).divide(NIR.add(RedEdge)).rename('NDRE')\n",
    "                ndre1999=ndre1999.clip(point)\n",
    "                Map.addLayer(ndre1999, {'min': -1, 'max': 1, 'palette': ['red', 'yellow', 'green']}, \"NDRE 1999\")\n",
    "                Map \n",
    "                \n",
    "                print(Fore.GREEN+\"NDRE Calculated\",Style.RESET_ALL)\n",
    "                my_table = PrettyTable()\n",
    "                my_table.hrules=ALL\n",
    "                my_table.field_names = [\"NDRE Value\", \"Inference\", \"Actionable Insights\"]\n",
    "                \n",
    "                my_table.add_row([\"-1 to 0.2\",\"Bare Soil/ Non Agricultural land/ Zero vegetation\",\"Sowing Yet to be done/ Sowing stage\"])\n",
    "                my_table.add_row([\"0.2-0.4\",\"Potential Disease Infection/Potential Pest Infestation/Potential Nutrient Deficiency \",\"Crop Inspection is necessary\"])\n",
    "                my_table.add_row([\"0.4-0.6\",\"Growing Crop stage\",\"Crop Inspection Not required\"])\n",
    "                my_table.add_row([\"Above 0.6\",\"Healthy Crop\",\"Crop Inspection Not required\"])\n",
    "                my_table._max_width = {\"Inference\":35,\"Actionable Insights\":35}\n",
    "               \n",
    "                #my_table._max_width = {\"Inference\":20}\n",
    "                #print(my_table)\n",
    "                #print(my_table)\n",
    "                #print(Fore.GREEN+\"-1 to 0.2:-\",Style.RESET_ALL,\"Bare Soil/ Non Agricultural land/ Zero vegetation:-\",\"Sowing Yet to be done/ Sowing stage\")\n",
    "                #print(Fore.GREEN+\"0.2-0.4:-\",Style.RESET_ALL,\"Potential Disease Infection/Potential Pest Infestation/Potential Nutrient Deficiency :-\",\"Crop Inspection is necessary\")\n",
    "                #print(Fore.GREEN+\"0.4-0.6:-\",Style.RESET_ALL,\"Growing Crop stage:-\",\"Crop Inspection Not required\")\n",
    "                #print(Fore.GREEN+\"Above 0.6:-\",Style.RESET_ALL,\"Healthy Crop:-\",\"Crop Inspection Not required\")\n",
    "                area = point.area()\n",
    "                #print(\"area\",area)\n",
    "                area_ha=area.getInfo()\n",
    "                area_sq=(round(area_ha,2))\n",
    "                #print(\"area in sqm\",area_sq)\n",
    "                plant_pop=area_sq/0.015\n",
    "                #print(\"area\",area_ha)\n",
    "                #print(\"Plant population = \",round(plant_pop,2))\n",
    "                area_ha=area_ha/4047\n",
    "                #print(\"ha\",area_ha)\n",
    "                #print(\"ROI Area = \", round(area.getInfo(),2),\"Square meter\")\n",
    "                print(Fore.GREEN+\"ROI Area = \",Style.RESET_ALL, round(area_ha,2),\"Acre\")\n",
    "                print(my_table)\n",
    "            \n",
    "            except:\n",
    "                print(\"Due to cloud cover data is not available\")\n",
    "        else:\n",
    "            \n",
    "            print(\"Please Select aoi\")\n",
    "\n",
    "        \n"
   ]
  },
  {
   "cell_type": "code",
   "execution_count": 8,
   "metadata": {},
   "outputs": [],
   "source": [
    "output = widgets.Output()"
   ]
  },
  {
   "cell_type": "code",
   "execution_count": 9,
   "metadata": {},
   "outputs": [],
   "source": [
    "import numpy as np\n",
    "def MSAVI_clicked():\n",
    "\n",
    "    with output:\n",
    "        output.clear_output()\n",
    "        aa=Map.user_roi\n",
    "        if aa != None :\n",
    "            a = Map.user_roi.getInfo()\n",
    "            aoi1=a['coordinates']\n",
    "            print(Fore.GREEN+\"AOI Lat & Long = \",Style.RESET_ALL,aoi1)\n",
    "            today = datetime.now()\n",
    "\n",
    "            end=datetime.strftime(today, '%Y-%m-%d')\n",
    "            yesterday = datetime.now() - timedelta(7)\n",
    "            start=datetime.strftime(yesterday, '%Y-%m-%d')\n",
    "            point = ee.Geometry.Polygon(aoi1)\n",
    "            #l8 = ee.ImageCollection('MODIS/MCD43A4_006_NDVI')\n",
    "            l8 = ee.ImageCollection('COPERNICUS/S2_SR')\n",
    "            #l8 = ee.ImageCollection('LANDSAT/LC08/C01/T1_SR')\n",
    "           # l8 = ee.ImageCollection('LANDSAT/LC08/C02/T1_L2')\n",
    "            image = ee.Image(\n",
    "                l8.filterBounds(point)\n",
    "                .filterDate(start, end)\n",
    "                .sort('CLOUD_COVER')\n",
    "                .first()\n",
    "            )\n",
    "            try:\n",
    "                \n",
    "                # Compute MSAVI.\n",
    "                NIR = image.select('B8')\n",
    "                Red = image.select('B4')\n",
    "                RedEdge=image.select('B5')\n",
    "                GREEN = image.select('B3')\n",
    "\n",
    "                MSAVI = ((NIR.multiply(2).add(1).subtract( (((NIR.multiply(2).add(1)).pow(2)).subtract( (NIR.subtract(Red)).multiply(8))).pow(0.5))).divide(2))\n",
    "\n",
    "                MSAVI=MSAVI.rename('MSAVI2')\n",
    "                MSAVI2 =MSAVI.clip(point)\n",
    "                Map.addLayer(MSAVI2, {'min': -1, 'max': 1, 'palette': ['red', 'yellow', 'green']}, \"MSAVI2\")\n",
    "                Map\n",
    "                print(Fore.GREEN+\"MSAVI Calculated\",Style.RESET_ALL)\n",
    "\n",
    "                my_table = PrettyTable()\n",
    "                my_table.hrules=ALL\n",
    "                my_table.field_names = [\"MSAVI Value\", \"Inference\", \"Actionable Insights\"]\n",
    "                my_table.add_row([\"-1 to 0\",\"Bare Soil, No Vegetation, Zero Greenery\",\"Sowing yet to be done/ sowing done/ resowing is needed if sowing has already been carried out\"])\n",
    "                my_table.add_row([\"0 to 0.2\",\"Early Sowing Stage\",\"Regular Field inspections needed\"])\n",
    "                my_table.add_row([\"0.2 to 0.4\",\"Late Sowing stage, Seedling emergence stage/ Good Seed Emergence\",\"Seedling Emergence Inspection needed\"])\n",
    "                my_table.add_row([\"0.4-0.6\",\"Leaf Development Stage\",\"Physical Crop Inspection needed, Remote monitoring is enough\"])\n",
    "                my_table.add_row([\"Above 0.6\",\"Good Crop Health/Green Crop Cover/For Additional details refer NDVI / Presence of Farm/Orchard/Forestry\",\"Crop Inspection not needed\"])\n",
    "                my_table._max_width = {\"Inference\":35,\"Actionable Insights\":35}\n",
    "                #print(my_table)\n",
    "\n",
    "                #print(Fore.GREEN+\"1 to 0:-\",Style.RESET_ALL,\"Bare Soil, No Vegetation, Zero Greenery:-\",\"Sowing yet to be done/ sowing done/ resowing is needed if sowing has already been carried out\")\n",
    "               # print(Fore.GREEN+\"0 to 0.2:-\",Style.RESET_ALL,\"Early Sowing Stage:-\",\"Regular Field inspections needed.\")\n",
    "                #print(Fore.GREEN+\"0.2 to 0.4:-\",Style.RESET_ALL,\"Late Sowing stage, Seedling emergence stage/ Good Seed Emergence:-\",\"Seedling Emergence Inspection needed\")\n",
    "                #print(Fore.GREEN+\"0.4-0.6:-\",Style.RESET_ALL,\"Leaf Development Stage:-\",\"Physical Crop Inspection needed, Remote monitoring is enough\")\n",
    "               # print(Fore.GREEN+\"Above 0.6:-\",Style.RESET_ALL,\"Good Crop Health/Green Crop Cover/For Additional details refer NDVI / Presence of Farm/Orchard/Forestry:-\",\"Crop Inspection not needed\")\n",
    "                area = point.area()\n",
    "                #print(\"area\",area)\n",
    "                area_ha=area.getInfo()\n",
    "                area_sq=(round(area_ha,2))\n",
    "                #print(\"area in sqm\",area_sq)\n",
    "                plant_pop=area_sq/0.015\n",
    "                #print(\"area\",area_ha)\n",
    "                #print(\"Plant population = \",round(plant_pop,2))\n",
    "                area_ha=area_ha/4047\n",
    "                #print(\"ha\",area_ha)\n",
    "                #print(\"ROI Area = \", round(area.getInfo(),2),\"Square meter\")\n",
    "                print(Fore.GREEN+\"ROI Area = \",Style.RESET_ALL, round(area_ha,2),\"Acre\")\n",
    "                print(my_table)\n",
    "            except:\n",
    "                print(\"Due to cloud cover data is not available\")\n",
    "        else:\n",
    "            print(\"Please Select aoi\")\n",
    "\n",
    "        \n",
    "#MSAVI_button.on_click(MSAVI_clicked_new)"
   ]
  },
  {
   "cell_type": "code",
   "execution_count": 10,
   "metadata": {},
   "outputs": [],
   "source": [
    "output = widgets.Output()"
   ]
  },
  {
   "cell_type": "code",
   "execution_count": 11,
   "metadata": {},
   "outputs": [],
   "source": [
    "def NDMI_clicked():\n",
    "\n",
    "    with output:\n",
    "        output.clear_output()\n",
    "        aa=Map.user_roi\n",
    "        if aa != None :\n",
    "            \n",
    "            a = Map.user_roi.getInfo()\n",
    "            aoi1=a['coordinates']\n",
    "            print(\"AOI Lat & Long = \",aoi1)\n",
    "            today = datetime.now()\n",
    "\n",
    "            end=datetime.strftime(today, '%Y-%m-%d')\n",
    "            yesterday = datetime.now() - timedelta(7)\n",
    "            start=datetime.strftime(yesterday, '%Y-%m-%d')\n",
    "            point = ee.Geometry.Polygon(aoi1)\n",
    "            #l8 = ee.ImageCollection('MODIS/MCD43A4_006_NDVI')\n",
    "            l8 = ee.ImageCollection('COPERNICUS/S2_SR')\n",
    "            #l8 = ee.ImageCollection('LANDSAT/LC08/C01/T1_SR')\n",
    "            image = ee.Image(\n",
    "                l8.filterBounds(point)\n",
    "                .filterDate(start, end)\n",
    "                .sort('CLOUD_COVER')\n",
    "                .first()\n",
    "            )\n",
    "            try:\n",
    "                \n",
    "                # Compute NDMI.\n",
    "                NIR = image.select('B8')\n",
    "                SWIR1 = image.select('B11')\n",
    "                #RedEdge=image.select('B5')\n",
    "                #ndvi1999 = NIR.subtract(Red).divide(NIR.add(Red)).rename('NDVI')\n",
    "                NDMI1999 = NIR.subtract(SWIR1).divide(NIR.add(SWIR1)).rename('NDMI')\n",
    "                #ndvi1999=ndvi1999.clip(point)\n",
    "                NDMI1999=NDMI1999.clip(point)\n",
    "                #s2NDVI = ndvi1999.select('ndvi');\n",
    "                #Map.addLayer(ndvi1999, {'min': -1, 'max': 1, 'palette': ['red', 'yellow', 'green']}, \"NDVI 1999\")\n",
    "                Map.addLayer(NDMI1999, {'min': -1, 'max': 1, 'palette': ['white', 'skyblue', 'blue']}, \"NDMI 1999\")\n",
    "                Map \n",
    "                print(Fore.GREEN+\"NDMI Calculated\",Style.RESET_ALL)\n",
    "                \n",
    "                my_table = PrettyTable()\n",
    "                my_table.hrules=ALL\n",
    "                color = [\"\\033[0;93;10m\",\"\\033[0;33;10m\", \"\\033[0;32;10m\", \"\\033[0;92;10m\", \"\\033[0m\"]\n",
    "                my_table.field_names = [\"NDMI Value\", \"Inference\", \"Actionable Insights\"]\n",
    "                my_table.add_row([\"-1 to 0\",\"Acute Water Stress, Low Crop Cover\",\"Immediate Irrigation Required, Visit Farm\"])\n",
    "                my_table.add_row([\"0 to 0.2\",\"High Water Stress Low crop Cover\",\"Moderate Irrigation Needed\"])\n",
    "                my_table.add_row([\"0.2 to 0.4\",\"High Water Stress Mid Crop Cover\",\"Moderate Irrigation Needed\"])\n",
    "                my_table.add_row([\"0.4-0.6\",\"No Water Stress High Crop Cover\",\"No Irrigation Needed\"])\n",
    "                my_table.add_row([\"0.6 to 0.8\",\"No water stress, Very High Crop cover\",\"No Irrigation Needed\"])\n",
    "                my_table.add_row([\"0.8 to 1.0\",\"No Water Stress, Rich Crop Cover\",\"No Irrigation Needed\"])\n",
    "                my_table._max_width = {\"Inference\":35,\"Actionable Insights\":35}\n",
    "               \n",
    "                #print(my_table)\n",
    "                \n",
    "                #print(Fore.GREEN+\"-0.2 to 0:-\",Style.RESET_ALL,\"Acute Water Stress, Low Crop Cover:-\",\"Immediate Irrigation Required, Visit Farm\")\n",
    "                #print(Fore.GREEN+\"0 to 0.2:-\",Style.RESET_ALL,\"High Water Stress Low crop Cover:-\",\"Moderate Irrigation Needed\")\n",
    "               # print(Fore.GREEN+\"0.2 to 0.4:-\",Style.RESET_ALL,\"High Water Stress Mid Crop Cover:-\",\"Moderate Irrigation Needed\")\n",
    "               # print(Fore.GREEN+\"0.4-0.6:-\",Style.RESET_ALL,\"No Water Stress High Crop Cover:-\",\"No Irrigation Needed\")\n",
    "                #print(Fore.GREEN+\"0.6 to 0.8:-\",Style.RESET_ALL,\"No water stress, Very High Crop cover:-\",\"No Irrigation Needed\")\n",
    "               # print(Fore.GREEN+\"0.8 to 1.0:-\",Style.RESET_ALL,\"No Water Stress, Rich Crop Cover:-\",\"No Irrigation Needed\")\n",
    "                area = point.area()\n",
    "                #print(\"area\",area)\n",
    "                area_ha=area.getInfo()\n",
    "                area_sq=(round(area_ha,2))\n",
    "                #print(\"area in sqm\",area_sq)\n",
    "                plant_pop=area_sq/0.015\n",
    "                #print(\"area\",area_ha)\n",
    "                #print(\"Plant population = \",round(plant_pop,2))\n",
    "                area_ha=area_ha/4047\n",
    "                #print(\"ha\",area_ha)\n",
    "                #print(\"ROI Area = \", round(area.getInfo(),2),\"Square meter\")\n",
    "                print(Fore.GREEN+\"ROI Area = \",Style.RESET_ALL, round(area_ha,2),\"Acre\")\n",
    "                print(my_table)\n",
    "            except:\n",
    "                print(\"Due to cloud cover data is not available\")\n",
    "            \n",
    "        else:\n",
    "            print(\"Please Select aoi\")\n",
    "\n"
   ]
  },
  {
   "cell_type": "code",
   "execution_count": 12,
   "metadata": {},
   "outputs": [],
   "source": [
    "output = widgets.Output()"
   ]
  },
  {
   "cell_type": "code",
   "execution_count": 13,
   "metadata": {},
   "outputs": [],
   "source": [
    "header = widgets.Button(description=\"Header\",\n",
    "                    layout=widgets.Layout(width=\"auto\", height=\"auto\"), button_style=\"success\")\n",
    "footer = widgets.Button(description=\"Footer\",\n",
    "                    layout=widgets.Layout(width=\"auto\", height=\"auto\"), button_style=\"primary\")\n",
    "left = widgets.Button(description=\"Left\",\n",
    "                    layout=widgets.Layout(width=\"auto\", height=\"auto\"), button_style=\"info\")\n",
    "right = widgets.Button(description=\"Right\",\n",
    "                    layout=widgets.Layout(width=\"auto\", height=\"auto\"), button_style=\"info\")\n",
    "center = widgets.Button(description=\"Center\",\n",
    "                    layout=widgets.Layout(width=\"auto\", height=\"auto\"), button_style=\"danger\")"
   ]
  },
  {
   "cell_type": "code",
   "execution_count": 14,
   "metadata": {},
   "outputs": [],
   "source": [
    "import ipywidgets as widgets\n",
    "from ipywidgets import interact \n",
    "bor = 'Vegitation Indices'\n",
    "drop_down = widgets.Dropdown(options=['Vegitation Indices','NDVI','NDRE','MSAVI','NDMI'],\n",
    "                                \n",
    "                                disabled=False,\n",
    "                             layout=Layout(height='40px', width='auto')\n",
    "                            \n",
    "                             \n",
    "                             \n",
    "                            )\n",
    "\n",
    "        \n",
    "def dropdown_handler(change):\n",
    "    global bor\n",
    "    #print('a')\n",
    "    #print(change.new)\n",
    "    x=change.new\n",
    "    if x=='MSAVI':\n",
    "        \n",
    "        interact(MSAVI_clicked);\n",
    "    if x=='NDMI':\n",
    "        interact(NDMI_clicked)\n",
    "    if x=='NDVI':\n",
    "        \n",
    "        interact(ndvi_clicked);\n",
    "    if x=='NDRE':\n",
    "        interact(ndre_clicked)\n",
    "    \n",
    "\n",
    "    #print(aa)\n",
    "    bor = change.new  # This line isn't working\n",
    "drop_down.observe(dropdown_handler, names='value')\n",
    "#drop_down.style.button_color = 'purple'\n",
    "#drop_down"
   ]
  },
  {
   "cell_type": "code",
   "execution_count": 15,
   "metadata": {},
   "outputs": [],
   "source": [
    "from ipywidgets import GridspecLayout\n",
    "grid = GridspecLayout(1, 1)\n",
    "grid[0, 0] =drop_down\n",
    "\n",
    "#grid "
   ]
  },
  {
   "cell_type": "code",
   "execution_count": null,
   "metadata": {},
   "outputs": [],
   "source": []
  },
  {
   "cell_type": "code",
   "execution_count": 16,
   "metadata": {},
   "outputs": [],
   "source": [
    "from ipywidgets import AppLayout, Button, Layout"
   ]
  },
  {
   "cell_type": "code",
   "execution_count": 17,
   "metadata": {},
   "outputs": [
    {
     "data": {
      "application/vnd.jupyter.widget-view+json": {
       "model_id": "c5680481dd984e0c8939db810d03be64",
       "version_major": 2,
       "version_minor": 0
      },
      "text/plain": [
       "AppLayout(children=(GridspecLayout(children=(Dropdown(layout=Layout(grid_area='widget001', height='40px', widt…"
      ]
     },
     "metadata": {},
     "output_type": "display_data"
    },
    {
     "data": {
      "application/vnd.jupyter.widget-view+json": {
       "model_id": "41a56c83c9f5467486f22eaf702b1ff6",
       "version_major": 2,
       "version_minor": 0
      },
      "text/plain": [
       "interactive(children=(Output(),), _dom_classes=('widget-interact',))"
      ]
     },
     "metadata": {},
     "output_type": "display_data"
    },
    {
     "data": {
      "application/vnd.jupyter.widget-view+json": {
       "model_id": "c7fe3e10e66d4c21aae8f8223e6bb1a6",
       "version_major": 2,
       "version_minor": 0
      },
      "text/plain": [
       "interactive(children=(Output(),), _dom_classes=('widget-interact',))"
      ]
     },
     "metadata": {},
     "output_type": "display_data"
    },
    {
     "data": {
      "application/vnd.jupyter.widget-view+json": {
       "model_id": "9a4775abb5c14f168b55fe7ebda142db",
       "version_major": 2,
       "version_minor": 0
      },
      "text/plain": [
       "interactive(children=(Output(),), _dom_classes=('widget-interact',))"
      ]
     },
     "metadata": {},
     "output_type": "display_data"
    },
    {
     "data": {
      "application/vnd.jupyter.widget-view+json": {
       "model_id": "1a974e574b014c0aad442fe8b6041c5a",
       "version_major": 2,
       "version_minor": 0
      },
      "text/plain": [
       "interactive(children=(Output(),), _dom_classes=('widget-interact',))"
      ]
     },
     "metadata": {},
     "output_type": "display_data"
    }
   ],
   "source": [
    "AppLayout(header=None,\n",
    "          left_sidebar=None,\n",
    "          center=Map,\n",
    "          right_sidebar=grid,\n",
    "          footer=None)\n",
    "\n"
   ]
  },
  {
   "cell_type": "code",
   "execution_count": 18,
   "metadata": {},
   "outputs": [
    {
     "data": {
      "application/vnd.jupyter.widget-view+json": {
       "model_id": "7052d139237b42a9a984affce611ed01",
       "version_major": 2,
       "version_minor": 0
      },
      "text/plain": [
       "Output()"
      ]
     },
     "metadata": {},
     "output_type": "display_data"
    }
   ],
   "source": [
    "output"
   ]
  },
  {
   "cell_type": "code",
   "execution_count": null,
   "metadata": {},
   "outputs": [],
   "source": []
  }
 ],
 "metadata": {
  "hide_input": true,
  "kernelspec": {
   "display_name": "Python 3 (ipykernel)",
   "language": "python",
   "name": "python3"
  },
  "language_info": {
   "codemirror_mode": {
    "name": "ipython",
    "version": 3
   },
   "file_extension": ".py",
   "mimetype": "text/x-python",
   "name": "python",
   "nbconvert_exporter": "python",
   "pygments_lexer": "ipython3",
   "version": "3.9.7"
  },
  "toc": {
   "base_numbering": 1,
   "nav_menu": {},
   "number_sections": true,
   "sideBar": true,
   "skip_h1_title": true,
   "title_cell": "Table of Contents",
   "title_sidebar": "Table of Contents",
   "toc_cell": false,
   "toc_position": {},
   "toc_section_display": true,
   "toc_window_display": true
  },
  "varInspector": {
   "cols": {
    "lenName": 16,
    "lenType": 16,
    "lenVar": 40
   },
   "kernels_config": {
    "python": {
     "delete_cmd_postfix": "",
     "delete_cmd_prefix": "del ",
     "library": "var_list.py",
     "varRefreshCmd": "print(var_dic_list())"
    },
    "r": {
     "delete_cmd_postfix": ") ",
     "delete_cmd_prefix": "rm(",
     "library": "var_list.r",
     "varRefreshCmd": "cat(var_dic_list()) "
    }
   },
   "types_to_exclude": [
    "module",
    "function",
    "builtin_function_or_method",
    "instance",
    "_Feature"
   ],
   "window_display": false
  }
 },
 "nbformat": 4,
 "nbformat_minor": 4
}
